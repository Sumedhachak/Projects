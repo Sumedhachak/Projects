{
  "nbformat": 4,
  "nbformat_minor": 0,
  "metadata": {
    "colab": {
      "name": "Untitled5.ipynb",
      "provenance": [],
      "authorship_tag": "ABX9TyNfg6PDjFmpA6RaTlbhPTEh",
      "include_colab_link": true
    },
    "kernelspec": {
      "name": "python3",
      "display_name": "Python 3"
    },
    "language_info": {
      "name": "python"
    }
  },
  "cells": [
    {
      "cell_type": "markdown",
      "metadata": {
        "id": "view-in-github",
        "colab_type": "text"
      },
      "source": [
        "<a href=\"https://colab.research.google.com/github/Sumedhachak/Projects/blob/main/Protein%20and%20amino%20acids.ipynb\" target=\"_parent\"><img src=\"https://colab.research.google.com/assets/colab-badge.svg\" alt=\"Open In Colab\"/></a>"
      ]
    },
    {
      "cell_type": "code",
      "metadata": {
        "colab": {
          "base_uri": "https://localhost:8080/"
        },
        "id": "e3eFlGqbQlZ5",
        "outputId": "178e2414-4db3-43ec-d46d-b1a55d7d40aa"
      },
      "source": [
        "from google.colab import drive\n",
        "drive.mount('/content/drive')"
      ],
      "execution_count": 2,
      "outputs": [
        {
          "output_type": "stream",
          "text": [
            "Mounted at /content/drive\n"
          ],
          "name": "stdout"
        }
      ]
    },
    {
      "cell_type": "code",
      "metadata": {
        "colab": {
          "base_uri": "https://localhost:8080/",
          "height": 350
        },
        "id": "TsqaGzwVRtM8",
        "outputId": "c5371f74-95a5-4d95-b13a-36681326695e"
      },
      "source": [
        "# Python program to conver \n",
        "# altered DNA to protein \n",
        "\n",
        "inputfile =\"/content/example.fa\"\n",
        "f = open(inputfile, \"r\") \n",
        "seq = f.read() \n",
        "\n",
        "seq = seq.replace(\"\\n\", \"\") \n",
        "seq = seq.replace(\"\\r\", \"\") \n",
        "\n",
        "def translate(seq): \n",
        "\t\n",
        "\ttable = { \n",
        "\t\t'ATA':'I', 'ATC':'I', 'ATT':'I', 'ATG':'M', \n",
        "\t\t'ACA':'T', 'ACC':'T', 'ACG':'T', 'ACT':'T', \n",
        "\t\t'AAC':'N', 'AAT':'N', 'AAA':'K', 'AAG':'K', \n",
        "\t\t'AGC':'S', 'AGT':'S', 'AGA':'R', 'AGG':'R',\t\t\t\t \n",
        "\t\t'CTA':'L', 'CTC':'L', 'CTG':'L', 'CTT':'L', \n",
        "\t\t'CCA':'P', 'CCC':'P', 'CCG':'P', 'CCT':'P', \n",
        "\t\t'CAC':'H', 'CAT':'H', 'CAA':'Q', 'CAG':'Q', \n",
        "\t\t'CGA':'R', 'CGC':'R', 'CGG':'R', 'CGT':'R', \n",
        "\t\t'GTA':'V', 'GTC':'V', 'GTG':'V', 'GTT':'V', \n",
        "\t\t'GCA':'A', 'GCC':'A', 'GCG':'A', 'GCT':'A', \n",
        "\t\t'GAC':'D', 'GAT':'D', 'GAA':'E', 'GAG':'E', \n",
        "\t\t'GGA':'G', 'GGC':'G', 'GGG':'G', 'GGT':'G', \n",
        "\t\t'TCA':'S', 'TCC':'S', 'TCG':'S', 'TCT':'S', \n",
        "\t\t'TTC':'F', 'TTT':'F', 'TTA':'L', 'TTG':'L', \n",
        "\t\t'TAC':'Y', 'TAT':'Y', 'TAA':'_', 'TAG':'_', \n",
        "\t\t'TGC':'C', 'TGT':'C', 'TGA':'_', 'TGG':'W', \n",
        "\t} \n",
        "\tprotein =\"\" \n",
        "\tif len(seq)%3 == 0: \n",
        "\t\tfor i in range(0, len(seq), 3): \n",
        "\t\t\tcodon = seq[i:i + 3] \n",
        "\t\t\tprotein+= table[codon] \n",
        "\treturn protein \n",
        "def read_seq(inputfile): \n",
        "\twith open(inputfile, \"r\") as f: \n",
        "\t\tseq = f.read() \n",
        "\tseq = seq.replace(\"\\n\", \"\") \n",
        "\tseq = seq.replace(\"\\r\", \"\") \n",
        "\treturn seq \n",
        "\n",
        "prt = read_seq(\"amino_acid_sequence_original.txt\") \n",
        "dna = read_seq(\"DNA_sequence_original.txt\") \n",
        "\n",
        "\n",
        "p = translate(dna[20:935]) \n",
        "p == prt \n"
      ],
      "execution_count": 4,
      "outputs": [
        {
          "output_type": "error",
          "ename": "FileNotFoundError",
          "evalue": "ignored",
          "traceback": [
            "\u001b[0;31m---------------------------------------------------------------------------\u001b[0m",
            "\u001b[0;31mFileNotFoundError\u001b[0m                         Traceback (most recent call last)",
            "\u001b[0;32m<ipython-input-4-4f3f9436c532>\u001b[0m in \u001b[0;36m<module>\u001b[0;34m()\u001b[0m\n\u001b[1;32m     42\u001b[0m         \u001b[0;32mreturn\u001b[0m \u001b[0mseq\u001b[0m\u001b[0;34m\u001b[0m\u001b[0;34m\u001b[0m\u001b[0m\n\u001b[1;32m     43\u001b[0m \u001b[0;34m\u001b[0m\u001b[0m\n\u001b[0;32m---> 44\u001b[0;31m \u001b[0mprt\u001b[0m \u001b[0;34m=\u001b[0m \u001b[0mread_seq\u001b[0m\u001b[0;34m(\u001b[0m\u001b[0;34m\"amino_acid_sequence_original.txt\"\u001b[0m\u001b[0;34m)\u001b[0m\u001b[0;34m\u001b[0m\u001b[0;34m\u001b[0m\u001b[0m\n\u001b[0m\u001b[1;32m     45\u001b[0m \u001b[0mdna\u001b[0m \u001b[0;34m=\u001b[0m \u001b[0mread_seq\u001b[0m\u001b[0;34m(\u001b[0m\u001b[0;34m\"DNA_sequence_original.txt\"\u001b[0m\u001b[0;34m)\u001b[0m\u001b[0;34m\u001b[0m\u001b[0;34m\u001b[0m\u001b[0m\n\u001b[1;32m     46\u001b[0m \u001b[0;34m\u001b[0m\u001b[0m\n",
            "\u001b[0;32m<ipython-input-4-4f3f9436c532>\u001b[0m in \u001b[0;36mread_seq\u001b[0;34m(inputfile)\u001b[0m\n\u001b[1;32m     36\u001b[0m         \u001b[0;32mreturn\u001b[0m \u001b[0mprotein\u001b[0m\u001b[0;34m\u001b[0m\u001b[0;34m\u001b[0m\u001b[0m\n\u001b[1;32m     37\u001b[0m \u001b[0;32mdef\u001b[0m \u001b[0mread_seq\u001b[0m\u001b[0;34m(\u001b[0m\u001b[0minputfile\u001b[0m\u001b[0;34m)\u001b[0m\u001b[0;34m:\u001b[0m\u001b[0;34m\u001b[0m\u001b[0;34m\u001b[0m\u001b[0m\n\u001b[0;32m---> 38\u001b[0;31m         \u001b[0;32mwith\u001b[0m \u001b[0mopen\u001b[0m\u001b[0;34m(\u001b[0m\u001b[0minputfile\u001b[0m\u001b[0;34m,\u001b[0m \u001b[0;34m\"r\"\u001b[0m\u001b[0;34m)\u001b[0m \u001b[0;32mas\u001b[0m \u001b[0mf\u001b[0m\u001b[0;34m:\u001b[0m\u001b[0;34m\u001b[0m\u001b[0;34m\u001b[0m\u001b[0m\n\u001b[0m\u001b[1;32m     39\u001b[0m                 \u001b[0mseq\u001b[0m \u001b[0;34m=\u001b[0m \u001b[0mf\u001b[0m\u001b[0;34m.\u001b[0m\u001b[0mread\u001b[0m\u001b[0;34m(\u001b[0m\u001b[0;34m)\u001b[0m\u001b[0;34m\u001b[0m\u001b[0;34m\u001b[0m\u001b[0m\n\u001b[1;32m     40\u001b[0m         \u001b[0mseq\u001b[0m \u001b[0;34m=\u001b[0m \u001b[0mseq\u001b[0m\u001b[0;34m.\u001b[0m\u001b[0mreplace\u001b[0m\u001b[0;34m(\u001b[0m\u001b[0;34m\"\\n\"\u001b[0m\u001b[0;34m,\u001b[0m \u001b[0;34m\"\"\u001b[0m\u001b[0;34m)\u001b[0m\u001b[0;34m\u001b[0m\u001b[0;34m\u001b[0m\u001b[0m\n",
            "\u001b[0;31mFileNotFoundError\u001b[0m: [Errno 2] No such file or directory: 'amino_acid_sequence_original.txt'"
          ]
        }
      ]
    },
    {
      "cell_type": "code",
      "metadata": {
        "id": "c9aDWSV2Rv9m"
      },
      "source": [
        ""
      ],
      "execution_count": null,
      "outputs": []
    }
  ]
}